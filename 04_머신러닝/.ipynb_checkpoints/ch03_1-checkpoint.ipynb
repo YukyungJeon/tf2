{
 "cells": [
  {
   "cell_type": "code",
   "execution_count": 1,
   "id": "39e5cc8d-b803-45bf-9647-3eb508a54dab",
   "metadata": {},
   "outputs": [],
   "source": [
    "from sklearn.base import BaseEstimator"
   ]
  },
  {
   "cell_type": "code",
   "execution_count": 2,
   "id": "b2bbd8ce-97b2-4308-9fff-2d152c65cfcc",
   "metadata": {},
   "outputs": [],
   "source": [
    "class MyDummyClassifier(BaseEstimator):\n",
    "    def fit(self, X, y=None):\n",
    "        pass\n",
    "    def predict(self, X):\n",
    "        import numpy as np\n",
    "        pred = np.zeros((X.shape[0],1))\n",
    "        for i in range(X.shape[0]):\n",
    "            if X['Sex'].iloc[i] == 1:\n",
    "                pred[i] = 0\n",
    "            else:\n",
    "                pred[i] = 1\n",
    "        return pred"
   ]
  },
  {
   "cell_type": "code",
   "execution_count": 3,
   "id": "93be0fb5-c63c-497f-890d-f38abf86e8fe",
   "metadata": {},
   "outputs": [],
   "source": [
    "def fillna(df):\n",
    "    df['Age'].fillna(df['Age'].mean(), inplace=True)\n",
    "    df['Cabin'].fillna('N', inplace=True)\n",
    "    df['Embarked'].fillna('N', inplace=True)\n",
    "    df['Fare'].fillna(0, inplace=True)\n",
    "    return df\n",
    "def drop_features(df):\n",
    "    df.drop(columns=['PassengerId', 'Name', 'Ticket'], inplace=True)\n",
    "    return df\n",
    "def format_features(df):\n",
    "    from sklearn.preprocessing import LabelEncoder\n",
    "    df['Cabin'] = df['Cabin'].str[0]\n",
    "    features = ['Cabin', 'Sex', 'Embarked']\n",
    "    for feature in features:\n",
    "        le = LabelEncoder()\n",
    "        df[feature] = le.fit_transform(df[feature])\n",
    "        print(le.classes_)\n",
    "    return df\n",
    "def transform_features():\n",
    "    import pandas as pd\n",
    "    df = pd.read_csv('titanic_train.csv')\n",
    "    df = fillna(df)\n",
    "    df = drop_features(df)\n",
    "    df = format_features(df)\n",
    "    return df"
   ]
  },
  {
   "cell_type": "code",
   "execution_count": 4,
   "id": "78ebfc0d-d188-4cfe-946d-1fec8b0decef",
   "metadata": {},
   "outputs": [
    {
     "name": "stdout",
     "output_type": "stream",
     "text": [
      "['A' 'B' 'C' 'D' 'E' 'F' 'G' 'N' 'T']\n",
      "['female' 'male']\n",
      "['C' 'N' 'Q' 'S']\n"
     ]
    }
   ],
   "source": [
    "titanic_df = transform_features()"
   ]
  },
  {
   "cell_type": "code",
   "execution_count": 5,
   "id": "efd62c6f-ac8a-42d4-8766-bd5433842c81",
   "metadata": {},
   "outputs": [],
   "source": [
    "from sklearn.model_selection import train_test_split\n",
    "X_df = titanic_df.drop(columns=['Survived'])\n",
    "y_df = titanic_df['Survived']\n",
    "X_train, X_test, y_train, y_test = train_test_split(X_df, y_df, test_size=0.2, random_state=11)"
   ]
  },
  {
   "cell_type": "code",
   "execution_count": 6,
   "id": "1fdf0eb2-e699-4564-856c-b408f7899c79",
   "metadata": {},
   "outputs": [],
   "source": [
    "from sklearn.metrics import accuracy_score"
   ]
  },
  {
   "cell_type": "code",
   "execution_count": 7,
   "id": "44c4dcd2-7bb0-4912-bcfc-e85ea095b77f",
   "metadata": {},
   "outputs": [
    {
     "data": {
      "text/plain": [
       "0.8324022346368715"
      ]
     },
     "execution_count": 7,
     "metadata": {},
     "output_type": "execute_result"
    }
   ],
   "source": [
    "my = MyDummyClassifier()\n",
    "my.fit(X_train, y_train)\n",
    "pred = my.predict(X_test)\n",
    "accuracy_score(y_test, pred)\n",
    "#정확도만으로 데이터가 잘 학습되었다고 판단하기에는 무리가 있음"
   ]
  },
  {
   "cell_type": "code",
   "execution_count": 8,
   "id": "9a05449b-d489-418a-a0ed-d27205a53fa7",
   "metadata": {},
   "outputs": [],
   "source": [
    "from sklearn.metrics import confusion_matrix"
   ]
  },
  {
   "cell_type": "code",
   "execution_count": 9,
   "id": "b1472afa-649f-4cc5-bfb1-805653012600",
   "metadata": {},
   "outputs": [
    {
     "data": {
      "text/plain": [
       "array([[103,  15],\n",
       "       [ 15,  46]], dtype=int64)"
      ]
     },
     "execution_count": 9,
     "metadata": {},
     "output_type": "execute_result"
    }
   ],
   "source": [
    "confusion_matrix(y_test, pred)"
   ]
  },
  {
   "cell_type": "code",
   "execution_count": 10,
   "id": "fd96d67b-0805-492c-a397-4ecbbcda8bc1",
   "metadata": {},
   "outputs": [],
   "source": [
    "from sklearn.metrics import recall_score, precision_score"
   ]
  },
  {
   "cell_type": "code",
   "execution_count": 11,
   "id": "7c219adf-9c08-4f39-8103-b3593c89e7bc",
   "metadata": {},
   "outputs": [
    {
     "data": {
      "text/plain": [
       "0.7540983606557377"
      ]
     },
     "execution_count": 11,
     "metadata": {},
     "output_type": "execute_result"
    }
   ],
   "source": [
    "recall_score(y_test, pred) #재현율"
   ]
  },
  {
   "cell_type": "code",
   "execution_count": 12,
   "id": "86b5a797-9a3b-4b15-b0d2-7df5b711bf18",
   "metadata": {},
   "outputs": [
    {
     "data": {
      "text/plain": [
       "0.7540983606557377"
      ]
     },
     "execution_count": 12,
     "metadata": {},
     "output_type": "execute_result"
    }
   ],
   "source": [
    "precision_score(y_test, pred) #정밀도"
   ]
  },
  {
   "cell_type": "code",
   "execution_count": 13,
   "id": "b62db4fc-417e-4274-9695-36c19a9fca74",
   "metadata": {},
   "outputs": [],
   "source": [
    "from sklearn.metrics import accuracy_score, confusion_matrix, recall_score, precision_score"
   ]
  },
  {
   "cell_type": "code",
   "execution_count": 14,
   "id": "e5ad5098-2de2-4d80-9505-b3fb0048e75f",
   "metadata": {},
   "outputs": [],
   "source": [
    "def get_clf_eval(y_test, pred):\n",
    "    from sklearn.metrics import accuracy_score, confusion_matrix, recall_score, precision_score\n",
    "    accuracy = accuracy_score(y_test, pred)\n",
    "    confusion = confusion_matrix(y_test, pred)\n",
    "    precision = precision_score(y_test, pred)\n",
    "    recall = recall_score(y_test, pred)\n",
    "    print('오차행렬')\n",
    "    print(confusion)\n",
    "    print(f'정확도:{accuracy:.4f} 정밀도:{precision:.4f} 재현율:{recall:.4f}')"
   ]
  },
  {
   "cell_type": "code",
   "execution_count": 15,
   "id": "aee9f56a-45ef-429c-82c0-a866d79648d8",
   "metadata": {},
   "outputs": [
    {
     "name": "stdout",
     "output_type": "stream",
     "text": [
      "오차행렬\n",
      "[[103  15]\n",
      " [ 15  46]]\n",
      "정확도:0.8324 정밀도:0.7541 재현율:0.7541\n"
     ]
    }
   ],
   "source": [
    "get_clf_eval(y_test, pred)"
   ]
  },
  {
   "cell_type": "code",
   "execution_count": 16,
   "id": "d8ee11c6-f4ad-4dfe-8b01-4437315b21d6",
   "metadata": {},
   "outputs": [],
   "source": [
    "from sklearn.linear_model import LogisticRegression"
   ]
  },
  {
   "cell_type": "code",
   "execution_count": 17,
   "id": "0cb59e37-0958-4f68-bcb4-ec05d3a2709f",
   "metadata": {},
   "outputs": [
    {
     "name": "stdout",
     "output_type": "stream",
     "text": [
      "['A' 'B' 'C' 'D' 'E' 'F' 'G' 'N' 'T']\n",
      "['female' 'male']\n",
      "['C' 'N' 'Q' 'S']\n"
     ]
    }
   ],
   "source": [
    "titanic_df = transform_features()\n",
    "from sklearn.model_selection import train_test_split\n",
    "X_df = titanic_df.drop(columns=['Survived'])\n",
    "y_df = titanic_df['Survived']\n",
    "X_train, X_test, y_train, y_test = train_test_split(X_df, y_df, test_size=0.2, random_state=11)"
   ]
  },
  {
   "cell_type": "code",
   "execution_count": 18,
   "id": "b6d6bdad-41fe-4c04-a17a-46ece76b2011",
   "metadata": {},
   "outputs": [
    {
     "name": "stdout",
     "output_type": "stream",
     "text": [
      "오차행렬\n",
      "[[108  10]\n",
      " [ 14  47]]\n",
      "정확도:0.8659 정밀도:0.8246 재현율:0.7705\n"
     ]
    }
   ],
   "source": [
    "lr_clf = LogisticRegression(solver='liblinear')\n",
    "lr_clf.fit(X_train, y_train)\n",
    "pred = lr_clf.predict(X_test)\n",
    "get_clf_eval(y_test, pred)"
   ]
  },
  {
   "cell_type": "code",
   "execution_count": 19,
   "id": "76b7b815-9f0e-4587-8031-38a52f56dcd2",
   "metadata": {},
   "outputs": [],
   "source": [
    "pred_proba = lr_clf.predict_proba(X_test)"
   ]
  },
  {
   "cell_type": "code",
   "execution_count": 20,
   "id": "7a33382c-1f9d-476a-b66b-95594cfbf60c",
   "metadata": {},
   "outputs": [
    {
     "data": {
      "text/plain": [
       "(179, 2)"
      ]
     },
     "execution_count": 20,
     "metadata": {},
     "output_type": "execute_result"
    }
   ],
   "source": [
    "pred_proba.shape"
   ]
  },
  {
   "cell_type": "code",
   "execution_count": 21,
   "id": "96a5cdc2-f50c-4d42-8a65-2ce2ba8dce98",
   "metadata": {},
   "outputs": [
    {
     "data": {
      "text/plain": [
       "array([1, 0, 0], dtype=int64)"
      ]
     },
     "execution_count": 21,
     "metadata": {},
     "output_type": "execute_result"
    }
   ],
   "source": [
    "pred[:3]"
   ]
  },
  {
   "cell_type": "code",
   "execution_count": 22,
   "id": "b995c8e6-23ff-4b59-9f2a-7f83f03927c6",
   "metadata": {},
   "outputs": [
    {
     "data": {
      "text/plain": [
       "array([[0.44935228, 0.55064772],\n",
       "       [0.86335513, 0.13664487],\n",
       "       [0.86429645, 0.13570355]])"
      ]
     },
     "execution_count": 22,
     "metadata": {},
     "output_type": "execute_result"
    }
   ],
   "source": [
    "pred_proba[:3]"
   ]
  },
  {
   "cell_type": "code",
   "execution_count": 23,
   "id": "d946bddf-644d-4225-afd8-f91cddac9abb",
   "metadata": {},
   "outputs": [],
   "source": [
    "import numpy as np"
   ]
  },
  {
   "cell_type": "code",
   "execution_count": 24,
   "id": "807d1788-bf1f-4fb7-8aba-17bc069dabb3",
   "metadata": {},
   "outputs": [
    {
     "data": {
      "text/plain": [
       "array([[0.44935228, 0.55064772, 1.        ],\n",
       "       [0.86335513, 0.13664487, 0.        ],\n",
       "       [0.86429645, 0.13570355, 0.        ]])"
      ]
     },
     "execution_count": 24,
     "metadata": {},
     "output_type": "execute_result"
    }
   ],
   "source": [
    "pred_proba_result = np.concatenate([pred_proba, pred.reshape(-1,1)],axis=1)\n",
    "pred_proba_result[:3]"
   ]
  },
  {
   "cell_type": "code",
   "execution_count": 25,
   "id": "0cc16fbf-2837-4f17-8da0-3fe732ebdfd4",
   "metadata": {},
   "outputs": [],
   "source": [
    "from sklearn.preprocessing import Binarizer"
   ]
  },
  {
   "cell_type": "code",
   "execution_count": 26,
   "id": "8251628d-b6de-4f9e-a88c-e5e9dfabc2cb",
   "metadata": {},
   "outputs": [],
   "source": [
    "X=[[1,-1,2],\n",
    "   [2,0,0],\n",
    "   [0,1.1,1.2]]"
   ]
  },
  {
   "cell_type": "code",
   "execution_count": 27,
   "id": "570d108b-d105-468e-87e7-60a492e6c9ab",
   "metadata": {},
   "outputs": [],
   "source": [
    "bi = Binarizer()"
   ]
  },
  {
   "cell_type": "code",
   "execution_count": 28,
   "id": "9dfca56c-e126-4b6d-b5ca-ec684644a24a",
   "metadata": {},
   "outputs": [
    {
     "data": {
      "text/plain": [
       "array([[1., 0., 1.],\n",
       "       [1., 0., 0.],\n",
       "       [0., 1., 1.]])"
      ]
     },
     "execution_count": 28,
     "metadata": {},
     "output_type": "execute_result"
    }
   ],
   "source": [
    "bi.fit_transform(X)"
   ]
  },
  {
   "cell_type": "code",
   "execution_count": 29,
   "id": "60f8ac0a-4fc2-40f7-8269-47463f6f12bf",
   "metadata": {},
   "outputs": [],
   "source": [
    "bi = Binarizer(threshold=1.1)"
   ]
  },
  {
   "cell_type": "code",
   "execution_count": 30,
   "id": "210cca04-c18e-4e26-a5d3-e6de468fe331",
   "metadata": {},
   "outputs": [
    {
     "data": {
      "text/plain": [
       "array([[0., 0., 1.],\n",
       "       [1., 0., 0.],\n",
       "       [0., 0., 1.]])"
      ]
     },
     "execution_count": 30,
     "metadata": {},
     "output_type": "execute_result"
    }
   ],
   "source": [
    "bi.fit_transform(X)"
   ]
  },
  {
   "cell_type": "code",
   "execution_count": 31,
   "id": "10911078-f7f7-4b60-b490-f55f2be5e970",
   "metadata": {},
   "outputs": [],
   "source": [
    "custom_threshold = 0.5\n",
    "pred_proba_1 = pred_proba[:,1].reshape(-1,1)\n",
    "bi = Binarizer(threshold = custom_threshold)\n",
    "custom_predict = bi.fit_transform(pred_proba_1)"
   ]
  },
  {
   "cell_type": "code",
   "execution_count": 32,
   "id": "ded2cf9a-a23e-4b51-aa91-cd4df61bf956",
   "metadata": {},
   "outputs": [
    {
     "name": "stdout",
     "output_type": "stream",
     "text": [
      "오차행렬\n",
      "[[108  10]\n",
      " [ 14  47]]\n",
      "정확도:0.8659 정밀도:0.8246 재현율:0.7705\n"
     ]
    }
   ],
   "source": [
    "get_clf_eval(y_test, custom_predict)\n",
    "# 오차행렬\n",
    "# [[108  10]\n",
    "#  [ 14  47]]\n",
    "# 정확도:0.8659 정밀도:0.8246 재현율:0.7705"
   ]
  },
  {
   "cell_type": "code",
   "execution_count": 33,
   "id": "f8e4a7d4-8668-42d6-a133-447353923fd9",
   "metadata": {},
   "outputs": [
    {
     "name": "stdout",
     "output_type": "stream",
     "text": [
      "오차행렬\n",
      "[[97 21]\n",
      " [11 50]]\n",
      "정확도:0.8212 정밀도:0.7042 재현율:0.8197\n"
     ]
    }
   ],
   "source": [
    "custom_threshold = 0.4\n",
    "pred_proba_1 = pred_proba[:,1].reshape(-1,1)\n",
    "bi = Binarizer(threshold = custom_threshold)\n",
    "custom_predict = bi.fit_transform(pred_proba_1)\n",
    "get_clf_eval(y_test, custom_predict)"
   ]
  },
  {
   "cell_type": "code",
   "execution_count": 34,
   "id": "91f6ea7f-f533-458c-84af-80b86eff2892",
   "metadata": {},
   "outputs": [],
   "source": [
    "thresholds = [0.4,0.45,0.5,0.55,0.6]\n",
    "def get_eval_by_threshold(y_test, pred_proba_c1, thresholds):\n",
    "    for threshold in thresholds:\n",
    "        bi = Binarizer(threshold = threshold)\n",
    "        custom_predict = bi.fit_transform(pred_proba_c1)\n",
    "        print('임계값:', threshold)\n",
    "        get_clf_eval(y_test, custom_predict)"
   ]
  },
  {
   "cell_type": "code",
   "execution_count": 35,
   "id": "55f50cd5-2a13-4e7d-9304-a989dae90b1d",
   "metadata": {},
   "outputs": [
    {
     "name": "stdout",
     "output_type": "stream",
     "text": [
      "임계값: 0.4\n",
      "오차행렬\n",
      "[[97 21]\n",
      " [11 50]]\n",
      "정확도:0.8212 정밀도:0.7042 재현율:0.8197\n",
      "임계값: 0.45\n",
      "오차행렬\n",
      "[[105  13]\n",
      " [ 13  48]]\n",
      "정확도:0.8547 정밀도:0.7869 재현율:0.7869\n",
      "임계값: 0.5\n",
      "오차행렬\n",
      "[[108  10]\n",
      " [ 14  47]]\n",
      "정확도:0.8659 정밀도:0.8246 재현율:0.7705\n",
      "임계값: 0.55\n",
      "오차행렬\n",
      "[[111   7]\n",
      " [ 16  45]]\n",
      "정확도:0.8715 정밀도:0.8654 재현율:0.7377\n",
      "임계값: 0.6\n",
      "오차행렬\n",
      "[[113   5]\n",
      " [ 17  44]]\n",
      "정확도:0.8771 정밀도:0.8980 재현율:0.7213\n"
     ]
    }
   ],
   "source": [
    "get_eval_by_threshold(y_test, pred_proba_1, thresholds)"
   ]
  },
  {
   "cell_type": "code",
   "execution_count": 36,
   "id": "406818ab-c837-43e4-a605-308816ef9530",
   "metadata": {},
   "outputs": [],
   "source": [
    "from sklearn.metrics import f1_score"
   ]
  },
  {
   "cell_type": "code",
   "execution_count": 38,
   "id": "903b4e1c-0c2c-46d1-ac16-b5a5b187eadf",
   "metadata": {},
   "outputs": [
    {
     "data": {
      "text/plain": [
       "0.7966101694915254"
      ]
     },
     "execution_count": 38,
     "metadata": {},
     "output_type": "execute_result"
    }
   ],
   "source": [
    "f1_score(y_test, pred)"
   ]
  },
  {
   "cell_type": "code",
   "execution_count": 39,
   "id": "bf93d095-c480-42e4-a8c3-dee1603fb34f",
   "metadata": {},
   "outputs": [],
   "source": [
    "def get_clf_eval(y_test, pred):\n",
    "    from sklearn.metrics import accuracy_score, confusion_matrix, recall_score, precision_score, f1_score\n",
    "    accuracy = accuracy_score(y_test, pred)\n",
    "    confusion = confusion_matrix(y_test, pred)\n",
    "    precision = precision_score(y_test, pred)\n",
    "    recall = recall_score(y_test, pred)\n",
    "    f1 = f1_score(y_test, pred)\n",
    "    print('오차행렬')\n",
    "    print(confusion)\n",
    "    print(f'정확도:{accuracy:.4f} 정밀도:{precision:.4f} 재현율:{recall:.4f} f1:{f1:.4f}')"
   ]
  },
  {
   "cell_type": "code",
   "execution_count": 40,
   "id": "4fa601a1-07c4-44ae-987c-8f27e47d5cd3",
   "metadata": {},
   "outputs": [
    {
     "name": "stdout",
     "output_type": "stream",
     "text": [
      "임계값: 0.4\n",
      "오차행렬\n",
      "[[97 21]\n",
      " [11 50]]\n",
      "정확도:0.8212 정밀도:0.7042 재현율:0.8197 f1:0.7576\n",
      "임계값: 0.45\n",
      "오차행렬\n",
      "[[105  13]\n",
      " [ 13  48]]\n",
      "정확도:0.8547 정밀도:0.7869 재현율:0.7869 f1:0.7869\n",
      "임계값: 0.5\n",
      "오차행렬\n",
      "[[108  10]\n",
      " [ 14  47]]\n",
      "정확도:0.8659 정밀도:0.8246 재현율:0.7705 f1:0.7966\n",
      "임계값: 0.55\n",
      "오차행렬\n",
      "[[111   7]\n",
      " [ 16  45]]\n",
      "정확도:0.8715 정밀도:0.8654 재현율:0.7377 f1:0.7965\n",
      "임계값: 0.6\n",
      "오차행렬\n",
      "[[113   5]\n",
      " [ 17  44]]\n",
      "정확도:0.8771 정밀도:0.8980 재현율:0.7213 f1:0.8000\n"
     ]
    }
   ],
   "source": [
    "thresholds = [0.4,0.45,0.5,0.55,0.6]\n",
    "pred_proba = lr_clf.predict_proba(X_test)\n",
    "get_eval_by_threshold(y_test, pred_proba[:,1].reshape(-1,1), thresholds)"
   ]
  },
  {
   "cell_type": "code",
   "execution_count": 41,
   "id": "0de4d619-9bde-46d8-9dd7-8da45df10577",
   "metadata": {},
   "outputs": [],
   "source": [
    "from sklearn.metrics import roc_curve"
   ]
  },
  {
   "cell_type": "code",
   "execution_count": 43,
   "id": "f83a8330-cd59-44d0-a35b-e03cb69e025d",
   "metadata": {},
   "outputs": [
    {
     "data": {
      "text/plain": [
       "array([ 1,  6, 11, 16, 21, 26, 31, 36, 41, 46])"
      ]
     },
     "execution_count": 43,
     "metadata": {},
     "output_type": "execute_result"
    }
   ],
   "source": [
    "pred_proba_class1 = lr_clf.predict_proba(X_test)[:,1]\n",
    "fprs, tprs, thresholds = roc_curve(y_test, pred_proba_class1)\n",
    "thr_index = np.arange(1,thresholds.shape[0],5)\n",
    "thr_index"
   ]
  },
  {
   "cell_type": "code",
   "execution_count": 45,
   "id": "78942c1f-75cf-4a86-b1a8-3b16399dd527",
   "metadata": {},
   "outputs": [
    {
     "data": {
      "text/plain": [
       "array([0.94, 0.73, 0.62, 0.52, 0.44, 0.28, 0.15, 0.14, 0.13, 0.12])"
      ]
     },
     "execution_count": 45,
     "metadata": {},
     "output_type": "execute_result"
    }
   ],
   "source": [
    "np.round(thresholds[thr_index],2)"
   ]
  },
  {
   "cell_type": "code",
   "execution_count": 47,
   "id": "57752c6b-f7b2-436d-a3c2-ceb7acfe6bbb",
   "metadata": {},
   "outputs": [
    {
     "data": {
      "text/plain": [
       "array([0.   , 0.008, 0.025, 0.076, 0.127, 0.254, 0.576, 0.61 , 0.746,\n",
       "       0.847])"
      ]
     },
     "execution_count": 47,
     "metadata": {},
     "output_type": "execute_result"
    }
   ],
   "source": [
    "np.round(fprs[thr_index],3)"
   ]
  },
  {
   "cell_type": "code",
   "execution_count": 48,
   "id": "d9d263fc-f72c-4827-9570-49190eff46ed",
   "metadata": {},
   "outputs": [
    {
     "data": {
      "text/plain": [
       "array([0.016, 0.492, 0.705, 0.738, 0.803, 0.885, 0.902, 0.951, 0.967,\n",
       "       1.   ])"
      ]
     },
     "execution_count": 48,
     "metadata": {},
     "output_type": "execute_result"
    }
   ],
   "source": [
    "np.round(tprs[thr_index],3)"
   ]
  },
  {
   "cell_type": "code",
   "execution_count": 55,
   "id": "a2e4803d-34a0-4f4c-87a0-267a25e7a9fd",
   "metadata": {},
   "outputs": [],
   "source": [
    "import matplotlib.pyplot as plt\n",
    "def roc_curve_plot(y_test, pred_proba_c1):\n",
    "    fprs, tprs, thresholds = roc_curve(y_test, pred_proba_c1)\n",
    "    plt.plot(fprs, tprs, label='ROC')\n",
    "    plt.plot([0,1],[0,1],'k--', label='random')\n",
    "    start, end = plt.xlim()\n",
    "    plt.xticks(np.round(np.arange(start, end, 0.1),2))\n",
    "    plt.xlim(0,1)\n",
    "    plt.ylim(0,1)\n",
    "    plt.xlabel('ROC')\n",
    "    plt.ylabel('random')\n",
    "    plt.legend()"
   ]
  },
  {
   "cell_type": "code",
   "execution_count": 56,
   "id": "f27663c3-f5b8-48c8-9108-af873d7e5345",
   "metadata": {},
   "outputs": [
    {
     "data": {
      "image/png": "[encoded data removed]",
      "text/plain": [
       "<Figure size 432x288 with 1 Axes>"
      ]
     },
     "metadata": {
      "needs_background": "light"
     },
     "output_type": "display_data"
    }
   ],
   "source": [
    "roc_curve_plot(y_test, pred_proba_class1)"
   ]
  },
  {
   "cell_type": "code",
   "execution_count": 57,
   "id": "5684aa30-eff1-4723-be6d-5f90d66826fc",
   "metadata": {},
   "outputs": [],
   "source": [
    "from sklearn.metrics import roc_auc_score"
   ]
  },
  {
   "cell_type": "code",
   "execution_count": 58,
   "id": "5e20b8ce-8a81-4894-a046-46a4cf96618a",
   "metadata": {},
   "outputs": [
    {
     "data": {
      "text/plain": [
       "0.8986524034454015"
      ]
     },
     "execution_count": 58,
     "metadata": {},
     "output_type": "execute_result"
    }
   ],
   "source": [
    "roc_auc_score(y_test, pred_proba_class1)"
   ]
  },
  {
   "cell_type": "code",
   "execution_count": 59,
   "id": "ff59a3ae-a6b0-4d6e-9f31-c74dd0c0c20d",
   "metadata": {},
   "outputs": [],
   "source": [
    "def get_clf_eval(y_test, pred=None, pred_proba=None):\n",
    "    from sklearn.metrics import accuracy_score, confusion_matrix, recall_score, precision_score, f1_score, roc_auc_score\n",
    "    accuracy = accuracy_score(y_test, pred)\n",
    "    confusion = confusion_matrix(y_test, pred)\n",
    "    precision = precision_score(y_test, pred)\n",
    "    recall = recall_score(y_test, pred)\n",
    "    f1 = f1_score(y_test, pred)\n",
    "    roc_auc = roc_auc_score(y_test, pred_proba)\n",
    "    print('오차행렬')\n",
    "    print(confusion)\n",
    "    print(f'정확도:{accuracy:.4f} 정밀도:{precision:.4f} 재현율:{recall:.4f} f1:{f1:.4f} AUC:{roc_auc:.4f}')"
   ]
  },
  {
   "cell_type": "code",
   "execution_count": null,
   "id": "ed785fd0-33a1-48f7-8b2c-fb1b3891bf4c",
   "metadata": {},
   "outputs": [],
   "source": []
  }
 ],
 "metadata": {
  "kernelspec": {
   "display_name": "Python 3 (ipykernel)",
   "language": "python",
   "name": "python3"
  },
  "language_info": {
   "codemirror_mode": {
    "name": "ipython",
    "version": 3
   },
   "file_extension": ".py",
   "mimetype": "text/x-python",
   "name": "python",
   "nbconvert_exporter": "python",
   "pygments_lexer": "ipython3",
   "version": "3.9.12"
  }
 },
 "nbformat": 4,
 "nbformat_minor": 5
}
