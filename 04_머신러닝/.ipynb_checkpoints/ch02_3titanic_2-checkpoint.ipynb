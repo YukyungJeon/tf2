{
 "cells": [
  {
   "cell_type": "code",
   "execution_count": 9,
   "id": "12ac5b26-97b1-4635-9cb6-560824376da1",
   "metadata": {},
   "outputs": [],
   "source": [
    "def fillna(df):\n",
    "    df['Age'].fillna(df['Age'].mean(), inplace=True)\n",
    "    df['Cabin'].fillna('N', inplace=True)\n",
    "    df['Embarked'].fillna('N', inplace=True)\n",
    "    df['Fare'].fillna(0, inplace=True)\n",
    "    return df\n",
    "def drop_features(df):\n",
    "    df.drop(columns=['PassengerId', 'Name', 'Ticket'], inplace=True)\n",
    "    return df\n",
    "def format_features(df):\n",
    "    from sklearn.preprocessing import LabelEncoder\n",
    "    df['Cabin'] = df['Cabin'].str[0]\n",
    "    features = ['Cabin', 'Sex', 'Embarked']\n",
    "    for feature in features:\n",
    "        le = LabelEncoder()\n",
    "        df[feature] = le.fit_transform(df[feature])\n",
    "        print(le.classes_)\n",
    "    return df\n",
    "def transform_features():\n",
    "    import pandas as pd\n",
    "    df = pd.read_csv('titanic_train.csv')\n",
    "    df = fillna(df)\n",
    "    df = drop_features(df)\n",
    "    df = format_features(df)\n",
    "    return df"
   ]
  },
  {
   "cell_type": "code",
   "execution_count": 10,
   "id": "48ac6657-cb61-4c88-ab03-bf1f24337ff0",
   "metadata": {},
   "outputs": [
    {
     "name": "stdout",
     "output_type": "stream",
     "text": [
      "['A' 'B' 'C' 'D' 'E' 'F' 'G' 'N' 'T']\n",
      "['female' 'male']\n",
      "['C' 'N' 'Q' 'S']\n"
     ]
    }
   ],
   "source": [
    "titanic_df = transform_features()"
   ]
  },
  {
   "cell_type": "code",
   "execution_count": 11,
   "id": "e4d43531-33ac-484b-a11c-78b38a899ca0",
   "metadata": {},
   "outputs": [
    {
     "data": {
      "text/html": [
       "<div>\n",
       "<style scoped>\n",
       "    .dataframe tbody tr th:only-of-type {\n",
       "        vertical-align: middle;\n",
       "    }\n",
       "\n",
       "    .dataframe tbody tr th {\n",
       "        vertical-align: top;\n",
       "    }\n",
       "\n",
       "    .dataframe thead th {\n",
       "        text-align: right;\n",
       "    }\n",
       "</style>\n",
       "<table border=\"1\" class=\"dataframe\">\n",
       "  <thead>\n",
       "    <tr style=\"text-align: right;\">\n",
       "      <th></th>\n",
       "      <th>Survived</th>\n",
       "      <th>Pclass</th>\n",
       "      <th>Sex</th>\n",
       "      <th>Age</th>\n",
       "      <th>SibSp</th>\n",
       "      <th>Parch</th>\n",
       "      <th>Fare</th>\n",
       "      <th>Cabin</th>\n",
       "      <th>Embarked</th>\n",
       "    </tr>\n",
       "  </thead>\n",
       "  <tbody>\n",
       "    <tr>\n",
       "      <th>0</th>\n",
       "      <td>0</td>\n",
       "      <td>3</td>\n",
       "      <td>1</td>\n",
       "      <td>22.0</td>\n",
       "      <td>1</td>\n",
       "      <td>0</td>\n",
       "      <td>7.25</td>\n",
       "      <td>7</td>\n",
       "      <td>3</td>\n",
       "    </tr>\n",
       "  </tbody>\n",
       "</table>\n",
       "</div>"
      ],
      "text/plain": [
       "   Survived  Pclass  Sex   Age  SibSp  Parch  Fare  Cabin  Embarked\n",
       "0         0       3    1  22.0      1      0  7.25      7         3"
      ]
     },
     "execution_count": 11,
     "metadata": {},
     "output_type": "execute_result"
    }
   ],
   "source": [
    "titanic_df.head(1)"
   ]
  },
  {
   "cell_type": "code",
   "execution_count": 12,
   "id": "7be3e695-b16f-4245-bcff-824a0c19b739",
   "metadata": {},
   "outputs": [],
   "source": [
    "from sklearn.model_selection import train_test_split"
   ]
  },
  {
   "cell_type": "code",
   "execution_count": 13,
   "id": "064fff4a-a35d-44b8-9bed-c89e1f4f0364",
   "metadata": {},
   "outputs": [],
   "source": [
    "X_df = titanic_df.drop(columns=['Survived'])\n",
    "y_df = titanic_df['Survived']"
   ]
  },
  {
   "cell_type": "code",
   "execution_count": 15,
   "id": "e1a5af72-716a-435f-b31f-14464209d48a",
   "metadata": {},
   "outputs": [],
   "source": [
    "X_train, X_test, y_train, y_test = train_test_split(X_df, y_df, test_size=0.2, random_state=11)"
   ]
  },
  {
   "cell_type": "code",
   "execution_count": 16,
   "id": "1ba764ca-4a5e-4963-b15f-bf8bfde86215",
   "metadata": {},
   "outputs": [],
   "source": [
    "from sklearn.tree import DecisionTreeClassifier\n",
    "from sklearn.ensemble import RandomForestClassifier\n",
    "from sklearn.linear_model import LogisticRegression\n",
    "from sklearn.metrics import accuracy_score"
   ]
  },
  {
   "cell_type": "code",
   "execution_count": 17,
   "id": "8d7526bd-194a-4838-9816-31cb1fa28bfe",
   "metadata": {},
   "outputs": [],
   "source": [
    "dt_clf = DecisionTreeClassifier(random_state=11)\n",
    "rf_clf = RandomForestClassifier(random_state=11)\n",
    "lr_clf = LogisticRegression(solver='liblinear')"
   ]
  },
  {
   "cell_type": "code",
   "execution_count": 22,
   "id": "1accecb6-19fe-4112-a8d1-8047ad979024",
   "metadata": {},
   "outputs": [
    {
     "name": "stdout",
     "output_type": "stream",
     "text": [
      "DecisionTreeClassifier 정확도:0.7877\n"
     ]
    }
   ],
   "source": [
    "dt_clf.fit(X_train, y_train)\n",
    "dt_pred = dt_clf.predict(X_test)\n",
    "print(f'DecisionTreeClassifier 정확도:{accuracy_score(y_test, dt_pred):.4f}')"
   ]
  },
  {
   "cell_type": "code",
   "execution_count": 23,
   "id": "fca0dc5d-bfd1-4ee9-9fc7-9d404f3a0f4b",
   "metadata": {},
   "outputs": [
    {
     "name": "stdout",
     "output_type": "stream",
     "text": [
      "RandomForestClassifier 정확도:0.8547\n"
     ]
    }
   ],
   "source": [
    "rf_clf.fit(X_train, y_train)\n",
    "rf_pred = rf_clf.predict(X_test)\n",
    "print(f'RandomForestClassifier 정확도:{accuracy_score(y_test, rf_pred):.4f}')"
   ]
  },
  {
   "cell_type": "code",
   "execution_count": 24,
   "id": "9cdf4013-ea21-45db-8281-48a381b3f3e2",
   "metadata": {},
   "outputs": [
    {
     "name": "stdout",
     "output_type": "stream",
     "text": [
      "LogisticRegression 정확도:0.8659\n"
     ]
    }
   ],
   "source": [
    "lr_clf.fit(X_train, y_train)\n",
    "lr_pred = lr_clf.predict(X_test)\n",
    "print(f'LogisticRegression 정확도:{accuracy_score(y_test, lr_pred):.4f}')"
   ]
  },
  {
   "cell_type": "code",
   "execution_count": 25,
   "id": "427ab9af-a9cf-44e7-9112-abb502057b69",
   "metadata": {},
   "outputs": [],
   "source": [
    "from sklearn.model_selection import KFold"
   ]
  },
  {
   "cell_type": "code",
   "execution_count": 29,
   "id": "68dca0bd-e477-4ace-8abc-d7d2f6b337c3",
   "metadata": {},
   "outputs": [],
   "source": [
    "def exec_kfold(clf, fold=5):\n",
    "    import numpy as np\n",
    "    kfold = KFold(n_splits=fold)\n",
    "    scores=[]\n",
    "    for iter_count, (train_index, test_index) in enumerate(kfold.split(X_df)):\n",
    "        X_train, X_test = X_df.values[train_index], X_df.values[test_index]\n",
    "        y_train, y_test = y_df.values[train_index], y_df.values[test_index]\n",
    "        clf.fit(X_train, y_train)\n",
    "        pred = clf.predict(X_test)\n",
    "        accuracy = accuracy_score(y_test, pred)\n",
    "        scores.append(accuracy)\n",
    "        print(f'교차검증 {iter_count} 정확도 : {accuracy}')\n",
    "    print(f'평균정확도:{np.mean(scores)}')"
   ]
  },
  {
   "cell_type": "code",
   "execution_count": 32,
   "id": "a7e7ca40-0548-4ad4-b7d7-1d0ea6ec41d0",
   "metadata": {},
   "outputs": [
    {
     "name": "stdout",
     "output_type": "stream",
     "text": [
      "교차검증 0 정확도 : 0.7541899441340782\n",
      "교차검증 1 정확도 : 0.7808988764044944\n",
      "교차검증 2 정확도 : 0.7865168539325843\n",
      "교차검증 3 정확도 : 0.7696629213483146\n",
      "교차검증 4 정확도 : 0.8202247191011236\n",
      "평균정확도:0.782298662984119\n"
     ]
    }
   ],
   "source": [
    "exec_kfold(dt_clf) #DecisionTreeClassifier 정확도:0.7877"
   ]
  },
  {
   "cell_type": "code",
   "execution_count": 31,
   "id": "40ec8a2a-e840-465f-9afe-0a835245d6a3",
   "metadata": {},
   "outputs": [
    {
     "name": "stdout",
     "output_type": "stream",
     "text": [
      "교차검증 0 정확도 : 0.7932960893854749\n",
      "교차검증 1 정확도 : 0.8089887640449438\n",
      "교차검증 2 정확도 : 0.8370786516853933\n",
      "교차검증 3 정확도 : 0.7752808988764045\n",
      "교차검증 4 정확도 : 0.8595505617977528\n",
      "평균정확도:0.8148389931579938\n"
     ]
    }
   ],
   "source": [
    "exec_kfold(rf_clf) #RandomForestClassifier 정확도:0.8547"
   ]
  },
  {
   "cell_type": "code",
   "execution_count": 33,
   "id": "09281ce3-2c2c-46b1-a8c8-eab6e36038c8",
   "metadata": {},
   "outputs": [
    {
     "name": "stdout",
     "output_type": "stream",
     "text": [
      "교차검증 0 정확도 : 0.7932960893854749\n",
      "교차검증 1 정확도 : 0.7921348314606742\n",
      "교차검증 2 정확도 : 0.7752808988764045\n",
      "교차검증 3 정확도 : 0.7471910112359551\n",
      "교차검증 4 정확도 : 0.8426966292134831\n",
      "평균정확도:0.7901198920343984\n"
     ]
    }
   ],
   "source": [
    "exec_kfold(lr_clf) #LogisticRegression 정확도:0.8659"
   ]
  },
  {
   "cell_type": "code",
   "execution_count": 36,
   "id": "22b1e5d3-2e16-4ae4-8bd8-0bec4dc60d09",
   "metadata": {},
   "outputs": [],
   "source": [
    "from sklearn.model_selection import cross_val_score\n",
    "import numpy as np"
   ]
  },
  {
   "cell_type": "code",
   "execution_count": 40,
   "id": "a2ec62ba-a482-4ff3-b5c7-459e9f27671b",
   "metadata": {},
   "outputs": [
    {
     "name": "stdout",
     "output_type": "stream",
     "text": [
      "[0.74301676 0.7752809  0.79213483 0.78651685 0.84269663] 평균:0.7879291946519366\n"
     ]
    }
   ],
   "source": [
    "score = cross_val_score(dt_clf, X_df, y_df, cv=5)\n",
    "print(f'{score} 평균:{np.mean(score)}')\n",
    "# 교차검증 0 정확도 : 0.7541899441340782\n",
    "# 교차검증 1 정확도 : 0.7808988764044944\n",
    "# 교차검증 2 정확도 : 0.7865168539325843\n",
    "# 교차검증 3 정확도 : 0.7696629213483146\n",
    "# 교차검증 4 정확도 : 0.8202247191011236\n",
    "# 평균정확도:0.782298662984119"
   ]
  },
  {
   "cell_type": "code",
   "execution_count": 41,
   "id": "c3c79d03-3e14-4046-8543-6e5617e052dd",
   "metadata": {},
   "outputs": [
    {
     "name": "stdout",
     "output_type": "stream",
     "text": [
      "[0.79329609 0.79775281 0.84831461 0.76404494 0.86516854] 평균:0.8137153976523758\n"
     ]
    }
   ],
   "source": [
    "score = cross_val_score(rf_clf, X_df, y_df, cv=5)\n",
    "print(f'{score} 평균:{np.mean(score)}')\n",
    "# 교차검증 0 정확도 : 0.7932960893854749\n",
    "# 교차검증 1 정확도 : 0.8089887640449438\n",
    "# 교차검증 2 정확도 : 0.8370786516853933\n",
    "# 교차검증 3 정확도 : 0.7752808988764045\n",
    "# 교차검증 4 정확도 : 0.8595505617977528\n",
    "# 평균정확도:0.8148389931579938"
   ]
  },
  {
   "cell_type": "code",
   "execution_count": 42,
   "id": "f8afd799-90a7-46c1-87e4-42dbff720683",
   "metadata": {},
   "outputs": [
    {
     "name": "stdout",
     "output_type": "stream",
     "text": [
      "[0.7877095  0.79213483 0.7752809  0.76404494 0.82022472] 평균:0.7878789780930262\n"
     ]
    }
   ],
   "source": [
    "score = cross_val_score(lr_clf, X_df, y_df, cv=5)\n",
    "print(f'{score} 평균:{np.mean(score)}')\n",
    "# 교차검증 0 정확도 : 0.7932960893854749\n",
    "# 교차검증 1 정확도 : 0.7921348314606742\n",
    "# 교차검증 2 정확도 : 0.7752808988764045\n",
    "# 교차검증 3 정확도 : 0.7471910112359551\n",
    "# 교차검증 4 정확도 : 0.8426966292134831\n",
    "# 평균정확도:0.7901198920343984"
   ]
  },
  {
   "cell_type": "code",
   "execution_count": 43,
   "id": "46b67667-4f34-478e-a812-97270716d194",
   "metadata": {},
   "outputs": [],
   "source": [
    "from sklearn.model_selection import GridSearchCV"
   ]
  },
  {
   "cell_type": "code",
   "execution_count": 44,
   "id": "77abd0ca-bd9f-459a-ade8-0a54c078289c",
   "metadata": {},
   "outputs": [],
   "source": [
    "parameter = {\n",
    "    'max_depth':[2,3,5,10],\n",
    "    'min_samples_split':[2,3,5],\n",
    "    'min_samples_leaf':[1,5,8],\n",
    "}"
   ]
  },
  {
   "cell_type": "code",
   "execution_count": 45,
   "id": "d123a50f-4ef9-4c35-b0f0-f2e59a391d45",
   "metadata": {},
   "outputs": [
    {
     "data": {
      "text/plain": [
       "GridSearchCV(cv=5, estimator=DecisionTreeClassifier(random_state=11),\n",
       "             param_grid={'max_depth': [2, 3, 5, 10],\n",
       "                         'min_samples_leaf': [1, 5, 8],\n",
       "                         'min_samples_split': [2, 3, 5]},\n",
       "             scoring='accuracy')"
      ]
     },
     "execution_count": 45,
     "metadata": {},
     "output_type": "execute_result"
    }
   ],
   "source": [
    "grid_clf = GridSearchCV(dt_clf, param_grid=parameter, scoring='accuracy', cv=5)\n",
    "grid_clf.fit(X_train, y_train)"
   ]
  },
  {
   "cell_type": "code",
   "execution_count": 46,
   "id": "a7efd40c-cb10-4bf0-bf17-07a3de36e326",
   "metadata": {},
   "outputs": [
    {
     "data": {
      "text/plain": [
       "{'max_depth': 3, 'min_samples_leaf': 5, 'min_samples_split': 2}"
      ]
     },
     "execution_count": 46,
     "metadata": {},
     "output_type": "execute_result"
    }
   ],
   "source": [
    "grid_clf.best_params_"
   ]
  },
  {
   "cell_type": "code",
   "execution_count": 47,
   "id": "dec4625f-595d-47ac-8c1d-f17999616900",
   "metadata": {},
   "outputs": [
    {
     "data": {
      "text/plain": [
       "0.7991825076332119"
      ]
     },
     "execution_count": 47,
     "metadata": {},
     "output_type": "execute_result"
    }
   ],
   "source": [
    "grid_clf.best_score_"
   ]
  },
  {
   "cell_type": "code",
   "execution_count": 48,
   "id": "15d4ce16-ffbe-4017-a758-6dd3577f3dae",
   "metadata": {},
   "outputs": [],
   "source": [
    "pred = grid_clf.best_estimator_.predict(X_test)"
   ]
  },
  {
   "cell_type": "code",
   "execution_count": 49,
   "id": "29061936-44bf-4a30-b6a1-fcc2657f1150",
   "metadata": {},
   "outputs": [
    {
     "data": {
      "text/plain": [
       "0.8715083798882681"
      ]
     },
     "execution_count": 49,
     "metadata": {},
     "output_type": "execute_result"
    }
   ],
   "source": [
    "accuracy_score(y_test, pred)"
   ]
  },
  {
   "cell_type": "code",
   "execution_count": 50,
   "id": "dcd16f8a-bba2-453d-a9b3-cdffb00034cd",
   "metadata": {},
   "outputs": [
    {
     "data": {
      "text/plain": [
       "GridSearchCV(cv=5, estimator=RandomForestClassifier(random_state=11),\n",
       "             param_grid={'max_depth': [2, 3, 5, 10],\n",
       "                         'min_samples_leaf': [1, 5, 8],\n",
       "                         'min_samples_split': [2, 3, 5]},\n",
       "             scoring='accuracy')"
      ]
     },
     "execution_count": 50,
     "metadata": {},
     "output_type": "execute_result"
    }
   ],
   "source": [
    "grid_clf = GridSearchCV(rf_clf, param_grid=parameter, scoring='accuracy', cv=5)\n",
    "grid_clf.fit(X_train, y_train)"
   ]
  },
  {
   "cell_type": "code",
   "execution_count": 51,
   "id": "b8b0caec-abef-40c1-a866-f738680ba562",
   "metadata": {},
   "outputs": [
    {
     "data": {
      "text/plain": [
       "{'max_depth': 5, 'min_samples_leaf': 1, 'min_samples_split': 2}"
      ]
     },
     "execution_count": 51,
     "metadata": {},
     "output_type": "execute_result"
    }
   ],
   "source": [
    "grid_clf.best_params_"
   ]
  },
  {
   "cell_type": "code",
   "execution_count": 52,
   "id": "aedf95f0-b35b-4d17-9a4e-0fe4bad42ff2",
   "metadata": {},
   "outputs": [
    {
     "data": {
      "text/plain": [
       "0.8145966709346991"
      ]
     },
     "execution_count": 52,
     "metadata": {},
     "output_type": "execute_result"
    }
   ],
   "source": [
    "grid_clf.best_score_"
   ]
  },
  {
   "cell_type": "code",
   "execution_count": 54,
   "id": "2b870bc3-08be-4be9-ac3a-9a78c84b52dc",
   "metadata": {},
   "outputs": [
    {
     "data": {
      "text/plain": [
       "0.88268156424581"
      ]
     },
     "execution_count": 54,
     "metadata": {},
     "output_type": "execute_result"
    }
   ],
   "source": [
    "pred = grid_clf.best_estimator_.predict(X_test)\n",
    "accuracy_score(y_test, pred)"
   ]
  }
 ],
 "metadata": {
  "kernelspec": {
   "display_name": "Python 3 (ipykernel)",
   "language": "python",
   "name": "python3"
  },
  "language_info": {
   "codemirror_mode": {
    "name": "ipython",
    "version": 3
   },
   "file_extension": ".py",
   "mimetype": "text/x-python",
   "name": "python",
   "nbconvert_exporter": "python",
   "pygments_lexer": "ipython3",
   "version": "3.9.12"
  }
 },
 "nbformat": 4,
 "nbformat_minor": 5
}
