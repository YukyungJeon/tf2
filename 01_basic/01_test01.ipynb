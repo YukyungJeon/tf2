{
 "cells": [
  {
   "cell_type": "markdown",
   "id": "833228ee-9483-496f-b2da-23221d3f594a",
   "metadata": {},
   "source": [
    "# 마크다운 설명"
   ]
  },
  {
   "cell_type": "markdown",
   "id": "db3a1c8c-935f-4ee0-96d1-dd97e0e39435",
   "metadata": {},
   "source": [
    "[NAVER](https://naver.com \"링크 설명(title)을 작성하세요.\")\n",
    "![Kayak](http://www.tcpschool.com/lectures/img_deeplearning_09_ann.png)\n",
    "\n",
    "```python\n",
    "s = \"Python syntax highlighting\"\n",
    "print s\n",
    "```\n",
    "\n",
    "한글작업을 합니다.  \n",
    "한글작업을 합니다."
   ]
  },
  {
   "cell_type": "code",
   "execution_count": null,
   "id": "16503f86-729b-4383-b3f3-64056c831313",
   "metadata": {},
   "outputs": [],
   "source": [
    "print('hi')\n",
    "print('hello')"
   ]
  },
  {
   "cell_type": "code",
   "execution_count": null,
   "id": "7d3f41c5-5c50-44ac-abde-a8c447b12fea",
   "metadata": {},
   "outputs": [],
   "source": []
  }
 ],
 "metadata": {
  "kernelspec": {
   "display_name": "Python 3 (ipykernel)",
   "language": "python",
   "name": "python3"
  },
  "language_info": {
   "codemirror_mode": {
    "name": "ipython",
    "version": 3
   },
   "file_extension": ".py",
   "mimetype": "text/x-python",
   "name": "python",
   "nbconvert_exporter": "python",
   "pygments_lexer": "ipython3",
   "version": "3.9.12"
  },
  "vscode": {
   "interpreter": {
    "hash": "369f2c481f4da34e4445cda3fffd2e751bd1c4d706f27375911949ba6bb62e1c"
   }
  }
 },
 "nbformat": 4,
 "nbformat_minor": 5
}
